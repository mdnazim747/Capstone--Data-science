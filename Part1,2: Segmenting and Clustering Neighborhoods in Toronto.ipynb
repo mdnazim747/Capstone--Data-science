{
    "cells": [
        {
            "cell_type": "markdown",
            "metadata": {},
            "source": "# Segmenting and Clustering Neighborhoods in the city of Toronto"
        },
        {
            "cell_type": "markdown",
            "metadata": {},
            "source": "## Part 1: Web Scraping Toronto Postal Codes for Data on Borroughs and Neighborhoods"
        },
        {
            "cell_type": "code",
            "execution_count": 8,
            "metadata": {},
            "outputs": [],
            "source": "#Importing dependent packages\n\nfrom bs4 import BeautifulSoup as bsoup\nimport requests\nfrom lxml import html\nimport pandas as pd\nfrom pandas import DataFrame\nimport numpy as np\nimport re"
        },
        {
            "cell_type": "code",
            "execution_count": 9,
            "metadata": {},
            "outputs": [],
            "source": "#URL of the postal code for web scraping\n\nurl='https://en.wikipedia.org/wiki/List_of_postal_codes_of_Canada:_M'"
        },
        {
            "cell_type": "code",
            "execution_count": 10,
            "metadata": {},
            "outputs": [
                {
                    "name": "stdout",
                    "output_type": "stream",
                    "text": "200\n"
                }
            ],
            "source": "response = requests.get(url)\nprint(response.status_code)\nsoup = bsoup(response.content, 'html.parser')"
        },
        {
            "cell_type": "markdown",
            "metadata": {},
            "source": "### Scraping table from the web and storing information as strings in the list 'data'"
        },
        {
            "cell_type": "code",
            "execution_count": 11,
            "metadata": {},
            "outputs": [],
            "source": "Table = soup.find('table')\n\ndata = []\ni = 0\n\nfor row in Table.find_all('tr'):\n    td =[]\n    for cell in row.find_all('td'):\n        td.append(cell.text.strip())\n    data.append(td)"
        },
        {
            "cell_type": "code",
            "execution_count": 12,
            "metadata": {},
            "outputs": [
                {
                    "data": {
                        "text/plain": "['M1ANot assigned',\n 'M2ANot assigned',\n 'M3ANorth York(Parkwoods)',\n 'M4ANorth York(Victoria Village)',\n 'M5ADowntown Toronto(Regent Park / Harbourfront)',\n 'M6ANorth York(Lawrence Manor / Lawrence Heights)',\n \"M7AQueen's Park / Ontario Provincial Government\",\n 'M8ANot assigned',\n 'M9AEtobicoke(Islington Avenue)']"
                    },
                    "execution_count": 12,
                    "metadata": {},
                    "output_type": "execute_result"
                }
            ],
            "source": "#Displaying the list of information in the first row of the web table\n\ndata[0] "
        },
        {
            "cell_type": "markdown",
            "metadata": {},
            "source": "### Extracting main list to get a List of the Postal Codes"
        },
        {
            "cell_type": "code",
            "execution_count": 13,
            "metadata": {},
            "outputs": [
                {
                    "data": {
                        "text/plain": "['M1A',\n 'M2A',\n 'M3A',\n 'M4A',\n 'M5A',\n 'M6A',\n 'M7A',\n 'M8A',\n 'M9A',\n 'M1B',\n 'M2B',\n 'M3B',\n 'M4B',\n 'M5B',\n 'M6B',\n 'M7B',\n 'M8B',\n 'M9B',\n 'M1C',\n 'M2C',\n 'M3C',\n 'M4C',\n 'M5C',\n 'M6C',\n 'M7C',\n 'M8C',\n 'M9C',\n 'M1E',\n 'M2E',\n 'M3E',\n 'M4E',\n 'M5E',\n 'M6E',\n 'M7E',\n 'M8E',\n 'M9E',\n 'M1G',\n 'M2G',\n 'M3G',\n 'M4G',\n 'M5G',\n 'M6G',\n 'M7G',\n 'M8G',\n 'M9G',\n 'M1H',\n 'M2H',\n 'M3H',\n 'M4H',\n 'M5H',\n 'M6H',\n 'M7H',\n 'M8H',\n 'M9H',\n 'M1J',\n 'M2J',\n 'M3J',\n 'M4J',\n 'M5J',\n 'M6J',\n 'M7J',\n 'M8J',\n 'M9J',\n 'M1K',\n 'M2K',\n 'M3K',\n 'M4K',\n 'M5K',\n 'M6K',\n 'M7K',\n 'M8K',\n 'M9K',\n 'M1L',\n 'M2L',\n 'M3L',\n 'M4L',\n 'M5L',\n 'M6L',\n 'M7L',\n 'M8L',\n 'M9L',\n 'M1M',\n 'M2M',\n 'M3M',\n 'M4M',\n 'M5M',\n 'M6M',\n 'M7M',\n 'M8M',\n 'M9M',\n 'M1N',\n 'M2N',\n 'M3N',\n 'M4N',\n 'M5N',\n 'M6N',\n 'M7N',\n 'M8N',\n 'M9N',\n 'M1P',\n 'M2P',\n 'M3P',\n 'M4P',\n 'M5P',\n 'M6P',\n 'M7P',\n 'M8P',\n 'M9P',\n 'M1R',\n 'M2R',\n 'M3R',\n 'M4R',\n 'M5R',\n 'M6R',\n 'M7R',\n 'M8R',\n 'M9R',\n 'M1S',\n 'M2S',\n 'M3S',\n 'M4S',\n 'M5S',\n 'M6S',\n 'M7S',\n 'M8S',\n 'M9S',\n 'M1T',\n 'M2T',\n 'M3T',\n 'M4T',\n 'M5T',\n 'M6T',\n 'M7T',\n 'M8T',\n 'M9T',\n 'M1V',\n 'M2V',\n 'M3V',\n 'M4V',\n 'M5V',\n 'M6V',\n 'M7V',\n 'M8V',\n 'M9V',\n 'M1W',\n 'M2W',\n 'M3W',\n 'M4W',\n 'M5W',\n 'M6W',\n 'M7W',\n 'M8W',\n 'M9W',\n 'M1X',\n 'M2X',\n 'M3X',\n 'M4X',\n 'M5X',\n 'M6X',\n 'M7X',\n 'M8X',\n 'M9X',\n 'M1Y',\n 'M2Y',\n 'M3Y',\n 'M4Y',\n 'M5Y',\n 'M6Y',\n 'M7Y',\n 'M8Y',\n 'M9Y',\n 'M1Z',\n 'M2Z',\n 'M3Z',\n 'M4Z',\n 'M5Z',\n 'M6Z',\n 'M7Z',\n 'M8Z',\n 'M9Z']"
                    },
                    "execution_count": 13,
                    "metadata": {},
                    "output_type": "execute_result"
                }
            ],
            "source": "List_PostalCode = []\ni =  0\n\nfor i in range(0, 20):\n    for z in data[int(i)]:\n        List_PostalCode.append(z[:3])\n        \nList_PostalCode"
        },
        {
            "cell_type": "markdown",
            "metadata": {},
            "source": "### Storing the remaining strings of the main list into another list called 'Rem' for further process"
        },
        {
            "cell_type": "code",
            "execution_count": 14,
            "metadata": {},
            "outputs": [
                {
                    "data": {
                        "text/plain": "['Not assigned',\n 'Not assigned',\n 'North York(Parkwoods)',\n 'North York(Victoria Village)',\n 'Downtown Toronto(Regent Park / Harbourfront)',\n 'North York(Lawrence Manor / Lawrence Heights)',\n \"Queen's Park / Ontario Provincial Government\",\n 'Not assigned',\n 'Etobicoke(Islington Avenue)',\n 'Scarborough(Malvern / Rouge)',\n 'Not assigned',\n 'North York(Don Mills)North',\n 'East York(Parkview Hill / Woodbine Gardens)',\n 'Downtown Toronto(Garden District, Ryerson)',\n 'North York(Glencairn)',\n 'Not assigned',\n 'Not assigned',\n 'Etobicoke(West Deane Park / Princess Gardens / Martin Grove / Islington / Cloverdale)',\n 'Scarborough(Rouge Hill / Port Union / Highland Creek)',\n 'Not assigned',\n 'North York(Don Mills)South(Flemingdon Park)',\n 'East York(Woodbine Heights)',\n 'Downtown Toronto(St. James Town)',\n 'York(Humewood-Cedarvale)',\n 'Not assigned',\n 'Not assigned',\n 'Etobicoke(Eringate / Bloordale Gardens / Old Burnhamthorpe / Markland Wood)',\n 'Scarborough(Guildwood / Morningside / West Hill)',\n 'Not assigned',\n 'Not assigned',\n 'East Toronto(The Beaches)',\n 'Downtown Toronto(Berczy Park)',\n 'York(Caledonia-Fairbanks)',\n 'Not assigned',\n 'Not assigned',\n 'Not assigned',\n 'Scarborough(Woburn)',\n 'Not assigned',\n 'Not assigned',\n 'East York(Leaside)',\n 'Downtown Toronto(Central Bay Street)',\n 'Downtown Toronto(Christie)',\n 'Not assigned',\n 'Not assigned',\n 'Not assigned',\n 'Scarborough(Cedarbrae)',\n 'North York(Hillcrest Village)',\n 'North York(Bathurst Manor / Wilson Heights / Downsview North)',\n 'East York(Thorncliffe Park)',\n 'Downtown Toronto(Richmond / Adelaide / King)',\n 'West Toronto(Dufferin / Dovercourt Village)',\n 'Not assigned',\n 'Not assigned',\n 'Not assigned',\n 'Scarborough(Scarborough Village)',\n 'North York(Fairview / Henry Farm / Oriole)',\n 'North York(Northwood Park / York University)',\n 'East YorkEast Toronto(The Danforth  East)',\n 'Downtown Toronto(Harbourfront East / Union Station / Toronto Islands)',\n 'West Toronto(Little Portugal / Trinity)',\n 'Not assigned',\n 'Not assigned',\n 'Not assigned',\n 'Scarborough(Kennedy Park / Ionview / East Birchmount Park)',\n 'North York(Bayview Village)',\n 'North York(Downsview)East  (CFB Toronto)',\n 'East Toronto(The Danforth West / Riverdale)',\n 'Downtown Toronto(Toronto Dominion Centre / Design Exchange)',\n 'West Toronto(Brockton / Parkdale Village / Exhibition Place)',\n 'Not assigned',\n 'Not assigned',\n 'Not assigned',\n 'Scarborough(Golden Mile / Clairlea / Oakridge)',\n 'North York(York Mills / Silver Hills)',\n 'North York(Downsview)West',\n 'East Toronto(India Bazaar / The Beaches West)',\n 'Downtown Toronto(Commerce Court / Victoria Hotel)',\n 'North York(North Park / Maple Leaf Park / Upwood Park)',\n 'Not assigned',\n 'Not assigned',\n 'North York(Humber Summit)',\n 'Scarborough(Cliffside / Cliffcrest / Scarborough Village West)',\n 'North York(Willowdale / Newtonbrook)',\n 'North York(Downsview)Central',\n 'East Toronto(Studio District)',\n 'North York(Bedford Park / Lawrence Manor East)',\n 'York(Del Ray / Mount Dennis / Keelsdale and Silverthorn)',\n 'Not assigned',\n 'Not assigned',\n 'North York(Humberlea / Emery)',\n 'Scarborough(Birch Cliff / Cliffside West)',\n 'North York(Willowdale)South',\n 'North York(Downsview)Northwest',\n 'Central Toronto(Lawrence Park)',\n 'Central Toronto(Roselawn)',\n 'York(Runnymede / The Junction North)',\n 'Not assigned',\n 'Not assigned',\n 'York(Weston)',\n 'Scarborough(Dorset Park / Wexford Heights / Scarborough Town Centre)',\n 'North York(York Mills West)',\n 'Not assigned',\n 'Central Toronto(Davisville North)',\n 'Central Toronto(Forest Hill North & West)',\n 'West Toronto(High Park / The Junction South)',\n 'Not assigned',\n 'Not assigned',\n 'Etobicoke(Westmount)',\n 'Scarborough(Wexford / Maryvale)',\n 'North York(Willowdale)West',\n 'Not assigned',\n 'Central Toronto(North Toronto West)',\n 'Central Toronto(The Annex / North Midtown / Yorkville)',\n 'West Toronto(Parkdale / Roncesvalles)',\n 'MississaugaCanada Post Gateway Processing Centre(Enclave of L4W)',\n 'Not assigned',\n 'Etobicoke(Kingsview Village / St. Phillips / Martin Grove Gardens / Richview Gardens)',\n 'Scarborough(Agincourt)',\n 'Not assigned',\n 'Not assigned',\n 'Central Toronto(Davisville)',\n 'Downtown Toronto(University of Toronto / Harbord)',\n 'West Toronto(Runnymede / Swansea)',\n 'Not assigned',\n 'Not assigned',\n 'Not assigned',\n \"Scarborough(Clarks Corners / Tam O'Shanter / Sullivan)\",\n 'Not assigned',\n 'Not assigned',\n 'Central Toronto(Moore Park / Summerhill East)',\n 'Downtown Toronto(Kensington Market / Chinatown / Grange Park)',\n 'Not assigned',\n 'Not assigned',\n 'Not assigned',\n 'Not assigned',\n \"Scarborough(Milliken / Agincourt North / Steeles East / L'Amoreaux East)\",\n 'Not assigned',\n 'Not assigned',\n 'Central Toronto(Summerhill West / Rathnelly / South Hill / Forest Hill SE / Deer Park)',\n 'Downtown Toronto(CN Tower / King and Spadina / Railway Lands / Harbourfront West / Bathurst Quay / South Niagara / Island airport)',\n 'Not assigned',\n 'Not assigned',\n 'Etobicoke(New Toronto / Mimico South / Humber Bay Shores)',\n 'Etobicoke(South Steeles / Silverstone / Humbergate / Jamestown / Mount Olive / Beaumond Heights / Thistletown / Albion Gardens)',\n \"Scarborough(Steeles West / L'Amoreaux West)\",\n 'Not assigned',\n 'Not assigned',\n 'Downtown Toronto(Rosedale)',\n 'Downtown TorontoStn A PO Boxes25 The Esplanade(Enclave of M5E)',\n 'Not assigned',\n 'Not assigned',\n 'Etobicoke(Alderwood / Long Branch)',\n 'EtobicokeNorthwest(Clairville / Humberwood / Woodbine Downs / West Humber / Kipling Heights / Rexdale / Elms / Tandridge / Old Rexdale)',\n 'Scarborough(Upper Rouge)',\n 'Not assigned',\n 'Not assigned',\n 'Downtown Toronto(St. James Town / Cabbagetown)',\n 'Downtown Toronto(First Canadian Place / Underground city)',\n 'Not assigned',\n 'Not assigned',\n 'Etobicoke(The Kingsway / Montgomery Road / Old Mill North)',\n 'Not assigned',\n 'Not assigned',\n 'Not assigned',\n 'Not assigned',\n 'Downtown Toronto(Church and Wellesley)',\n 'Not assigned',\n 'Not assigned',\n 'East TorontoBusiness reply mail Processing Centre969 Eastern(Enclave of M4L)',\n \"Etobicoke(Old Mill South / King's Mill Park / Sunnylea / Humber Bay / Mimico NE / The Queensway East / Royal York South East / Kingsway Park South East)\",\n 'Not assigned',\n 'Not assigned',\n 'Not assigned',\n 'Not assigned',\n 'Not assigned',\n 'Not assigned',\n 'Not assigned',\n 'Not assigned',\n 'Etobicoke(Mimico NW / The Queensway West / South of Bloor / Kingsway Park South West / Royal York South West)',\n 'Not assigned']"
                    },
                    "execution_count": 14,
                    "metadata": {},
                    "output_type": "execute_result"
                }
            ],
            "source": "Rem = []\nj = 0\n\nfor j in range(0, 20):\n    for z in data[int(j)]:\n        Rem.append(z[3:])\n        \nRem"
        },
        {
            "cell_type": "markdown",
            "metadata": {},
            "source": "### Extracting rem list to get a Lists of the Boroughs and Neighborhood"
        },
        {
            "cell_type": "code",
            "execution_count": 20,
            "metadata": {},
            "outputs": [],
            "source": "List_Bor = []\nList_Neigh = []\nregexp_pattern = '\\([^\\(\\r\\n]*\\)'\nfor r in Rem:\n  #substr_within_paran.append(re.search('\\(([^)]+)', item).group(1))\n  a = re.findall(regexp_pattern, r)\n  b = ''.join(a)[1:-1]\n  b = b.replace(\")(\", \",\")\n  b = b.replace(\"/\", \",\")  \n  List_Neigh.append(b)\n  #re.findall -- a, b, b those 3 steps for items having more than one set of parantheses.\n  #if no such case in dataset, remove the above 4 lines and use the commented 1st line alone - enough\n  List_Bor.append(re.sub(r'\\([^)]*\\)', '', r))\n"
        },
        {
            "cell_type": "code",
            "execution_count": 21,
            "metadata": {},
            "outputs": [
                {
                    "data": {
                        "text/plain": "['',\n '',\n 'Parkwoods',\n 'Victoria Village',\n 'Regent Park , Harbourfront',\n 'Lawrence Manor , Lawrence Heights',\n '',\n '',\n 'Islington Avenue',\n 'Malvern , Rouge',\n '',\n 'Don Mills',\n 'Parkview Hill , Woodbine Gardens',\n 'Garden District, Ryerson',\n 'Glencairn',\n '',\n '',\n 'West Deane Park , Princess Gardens , Martin Grove , Islington , Cloverdale',\n 'Rouge Hill , Port Union , Highland Creek',\n '',\n 'Don Mills,Flemingdon Park',\n 'Woodbine Heights',\n 'St. James Town',\n 'Humewood-Cedarvale',\n '',\n '',\n 'Eringate , Bloordale Gardens , Old Burnhamthorpe , Markland Wood',\n 'Guildwood , Morningside , West Hill',\n '',\n '',\n 'The Beaches',\n 'Berczy Park',\n 'Caledonia-Fairbanks',\n '',\n '',\n '',\n 'Woburn',\n '',\n '',\n 'Leaside',\n 'Central Bay Street',\n 'Christie',\n '',\n '',\n '',\n 'Cedarbrae',\n 'Hillcrest Village',\n 'Bathurst Manor , Wilson Heights , Downsview North',\n 'Thorncliffe Park',\n 'Richmond , Adelaide , King',\n 'Dufferin , Dovercourt Village',\n '',\n '',\n '',\n 'Scarborough Village',\n 'Fairview , Henry Farm , Oriole',\n 'Northwood Park , York University',\n 'The Danforth  East',\n 'Harbourfront East , Union Station , Toronto Islands',\n 'Little Portugal , Trinity',\n '',\n '',\n '',\n 'Kennedy Park , Ionview , East Birchmount Park',\n 'Bayview Village',\n 'Downsview,CFB Toronto',\n 'The Danforth West , Riverdale',\n 'Toronto Dominion Centre , Design Exchange',\n 'Brockton , Parkdale Village , Exhibition Place',\n '',\n '',\n '',\n 'Golden Mile , Clairlea , Oakridge',\n 'York Mills , Silver Hills',\n 'Downsview',\n 'India Bazaar , The Beaches West',\n 'Commerce Court , Victoria Hotel',\n 'North Park , Maple Leaf Park , Upwood Park',\n '',\n '',\n 'Humber Summit',\n 'Cliffside , Cliffcrest , Scarborough Village West',\n 'Willowdale , Newtonbrook',\n 'Downsview',\n 'Studio District',\n 'Bedford Park , Lawrence Manor East',\n 'Del Ray , Mount Dennis , Keelsdale and Silverthorn',\n '',\n '',\n 'Humberlea , Emery',\n 'Birch Cliff , Cliffside West',\n 'Willowdale',\n 'Downsview',\n 'Lawrence Park',\n 'Roselawn',\n 'Runnymede , The Junction North',\n '',\n '',\n 'Weston',\n 'Dorset Park , Wexford Heights , Scarborough Town Centre',\n 'York Mills West',\n '',\n 'Davisville North',\n 'Forest Hill North & West',\n 'High Park , The Junction South',\n '',\n '',\n 'Westmount',\n 'Wexford , Maryvale',\n 'Willowdale',\n '',\n 'North Toronto West',\n 'The Annex , North Midtown , Yorkville',\n 'Parkdale , Roncesvalles',\n 'Enclave of L4W',\n '',\n 'Kingsview Village , St. Phillips , Martin Grove Gardens , Richview Gardens',\n 'Agincourt',\n '',\n '',\n 'Davisville',\n 'University of Toronto , Harbord',\n 'Runnymede , Swansea',\n '',\n '',\n '',\n \"Clarks Corners , Tam O'Shanter , Sullivan\",\n '',\n '',\n 'Moore Park , Summerhill East',\n 'Kensington Market , Chinatown , Grange Park',\n '',\n '',\n '',\n '',\n \"Milliken , Agincourt North , Steeles East , L'Amoreaux East\",\n '',\n '',\n 'Summerhill West , Rathnelly , South Hill , Forest Hill SE , Deer Park',\n 'CN Tower , King and Spadina , Railway Lands , Harbourfront West , Bathurst Quay , South Niagara , Island airport',\n '',\n '',\n 'New Toronto , Mimico South , Humber Bay Shores',\n 'South Steeles , Silverstone , Humbergate , Jamestown , Mount Olive , Beaumond Heights , Thistletown , Albion Gardens',\n \"Steeles West , L'Amoreaux West\",\n '',\n '',\n 'Rosedale',\n 'Enclave of M5E',\n '',\n '',\n 'Alderwood , Long Branch',\n 'Clairville , Humberwood , Woodbine Downs , West Humber , Kipling Heights , Rexdale , Elms , Tandridge , Old Rexdale',\n 'Upper Rouge',\n '',\n '',\n 'St. James Town , Cabbagetown',\n 'First Canadian Place , Underground city',\n '',\n '',\n 'The Kingsway , Montgomery Road , Old Mill North',\n '',\n '',\n '',\n '',\n 'Church and Wellesley',\n '',\n '',\n 'Enclave of M4L',\n \"Old Mill South , King's Mill Park , Sunnylea , Humber Bay , Mimico NE , The Queensway East , Royal York South East , Kingsway Park South East\",\n '',\n '',\n '',\n '',\n '',\n '',\n '',\n '',\n 'Mimico NW , The Queensway West , South of Bloor , Kingsway Park South West , Royal York South West',\n '']"
                    },
                    "execution_count": 21,
                    "metadata": {},
                    "output_type": "execute_result"
                }
            ],
            "source": "List_Neigh"
        },
        {
            "cell_type": "markdown",
            "metadata": {},
            "source": "### Creating a dataframe using the three lists"
        },
        {
            "cell_type": "code",
            "execution_count": 22,
            "metadata": {},
            "outputs": [],
            "source": "df = pd.DataFrame({'PostalCode' : List_PostalCode, 'Borough' : List_Bor, 'Neighborhood' : List_Neigh})"
        },
        {
            "cell_type": "code",
            "execution_count": 23,
            "metadata": {},
            "outputs": [
                {
                    "data": {
                        "text/html": "<div>\n<style scoped>\n    .dataframe tbody tr th:only-of-type {\n        vertical-align: middle;\n    }\n\n    .dataframe tbody tr th {\n        vertical-align: top;\n    }\n\n    .dataframe thead th {\n        text-align: right;\n    }\n</style>\n<table border=\"1\" class=\"dataframe\">\n  <thead>\n    <tr style=\"text-align: right;\">\n      <th></th>\n      <th>PostalCode</th>\n      <th>Borough</th>\n      <th>Neighborhood</th>\n    </tr>\n  </thead>\n  <tbody>\n    <tr>\n      <th>0</th>\n      <td>M1A</td>\n      <td>Not assigned</td>\n      <td></td>\n    </tr>\n    <tr>\n      <th>1</th>\n      <td>M2A</td>\n      <td>Not assigned</td>\n      <td></td>\n    </tr>\n    <tr>\n      <th>2</th>\n      <td>M3A</td>\n      <td>North York</td>\n      <td>Parkwoods</td>\n    </tr>\n    <tr>\n      <th>3</th>\n      <td>M4A</td>\n      <td>North York</td>\n      <td>Victoria Village</td>\n    </tr>\n    <tr>\n      <th>4</th>\n      <td>M5A</td>\n      <td>Downtown Toronto</td>\n      <td>Regent Park , Harbourfront</td>\n    </tr>\n  </tbody>\n</table>\n</div>",
                        "text/plain": "  PostalCode           Borough                Neighborhood\n0        M1A      Not assigned                            \n1        M2A      Not assigned                            \n2        M3A        North York                   Parkwoods\n3        M4A        North York            Victoria Village\n4        M5A  Downtown Toronto  Regent Park , Harbourfront"
                    },
                    "execution_count": 23,
                    "metadata": {},
                    "output_type": "execute_result"
                }
            ],
            "source": "df.head()"
        },
        {
            "cell_type": "markdown",
            "metadata": {},
            "source": "### Dropping all rows with an unassigned Borough"
        },
        {
            "cell_type": "code",
            "execution_count": 24,
            "metadata": {},
            "outputs": [],
            "source": "df.drop(df[df.Borough == 'Not assigned'].index, inplace = True)"
        },
        {
            "cell_type": "code",
            "execution_count": 25,
            "metadata": {},
            "outputs": [
                {
                    "data": {
                        "text/html": "<div>\n<style scoped>\n    .dataframe tbody tr th:only-of-type {\n        vertical-align: middle;\n    }\n\n    .dataframe tbody tr th {\n        vertical-align: top;\n    }\n\n    .dataframe thead th {\n        text-align: right;\n    }\n</style>\n<table border=\"1\" class=\"dataframe\">\n  <thead>\n    <tr style=\"text-align: right;\">\n      <th></th>\n      <th>PostalCode</th>\n      <th>Borough</th>\n      <th>Neighborhood</th>\n    </tr>\n  </thead>\n  <tbody>\n    <tr>\n      <th>2</th>\n      <td>M3A</td>\n      <td>North York</td>\n      <td>Parkwoods</td>\n    </tr>\n    <tr>\n      <th>3</th>\n      <td>M4A</td>\n      <td>North York</td>\n      <td>Victoria Village</td>\n    </tr>\n    <tr>\n      <th>4</th>\n      <td>M5A</td>\n      <td>Downtown Toronto</td>\n      <td>Regent Park , Harbourfront</td>\n    </tr>\n    <tr>\n      <th>5</th>\n      <td>M6A</td>\n      <td>North York</td>\n      <td>Lawrence Manor , Lawrence Heights</td>\n    </tr>\n    <tr>\n      <th>6</th>\n      <td>M7A</td>\n      <td>Queen's Park / Ontario Provincial Government</td>\n      <td></td>\n    </tr>\n  </tbody>\n</table>\n</div>",
                        "text/plain": "  PostalCode                                       Borough  \\\n2        M3A                                    North York   \n3        M4A                                    North York   \n4        M5A                              Downtown Toronto   \n5        M6A                                    North York   \n6        M7A  Queen's Park / Ontario Provincial Government   \n\n                        Neighborhood  \n2                          Parkwoods  \n3                   Victoria Village  \n4         Regent Park , Harbourfront  \n5  Lawrence Manor , Lawrence Heights  \n6                                     "
                    },
                    "execution_count": 25,
                    "metadata": {},
                    "output_type": "execute_result"
                }
            ],
            "source": "df.head()"
        },
        {
            "cell_type": "code",
            "execution_count": 26,
            "metadata": {},
            "outputs": [],
            "source": "df.loc[(df.Neighborhood == '', 'Neighborhood')] = df.Borough"
        },
        {
            "cell_type": "code",
            "execution_count": 27,
            "metadata": {},
            "outputs": [
                {
                    "data": {
                        "text/html": "<div>\n<style scoped>\n    .dataframe tbody tr th:only-of-type {\n        vertical-align: middle;\n    }\n\n    .dataframe tbody tr th {\n        vertical-align: top;\n    }\n\n    .dataframe thead th {\n        text-align: right;\n    }\n</style>\n<table border=\"1\" class=\"dataframe\">\n  <thead>\n    <tr style=\"text-align: right;\">\n      <th></th>\n      <th>PostalCode</th>\n      <th>Borough</th>\n      <th>Neighborhood</th>\n    </tr>\n  </thead>\n  <tbody>\n    <tr>\n      <th>2</th>\n      <td>M3A</td>\n      <td>North York</td>\n      <td>Parkwoods</td>\n    </tr>\n    <tr>\n      <th>3</th>\n      <td>M4A</td>\n      <td>North York</td>\n      <td>Victoria Village</td>\n    </tr>\n    <tr>\n      <th>4</th>\n      <td>M5A</td>\n      <td>Downtown Toronto</td>\n      <td>Regent Park , Harbourfront</td>\n    </tr>\n    <tr>\n      <th>5</th>\n      <td>M6A</td>\n      <td>North York</td>\n      <td>Lawrence Manor , Lawrence Heights</td>\n    </tr>\n    <tr>\n      <th>6</th>\n      <td>M7A</td>\n      <td>Queen's Park / Ontario Provincial Government</td>\n      <td>Queen's Park / Ontario Provincial Government</td>\n    </tr>\n    <tr>\n      <th>8</th>\n      <td>M9A</td>\n      <td>Etobicoke</td>\n      <td>Islington Avenue</td>\n    </tr>\n    <tr>\n      <th>9</th>\n      <td>M1B</td>\n      <td>Scarborough</td>\n      <td>Malvern , Rouge</td>\n    </tr>\n    <tr>\n      <th>11</th>\n      <td>M3B</td>\n      <td>North YorkNorth</td>\n      <td>Don Mills</td>\n    </tr>\n    <tr>\n      <th>12</th>\n      <td>M4B</td>\n      <td>East York</td>\n      <td>Parkview Hill , Woodbine Gardens</td>\n    </tr>\n    <tr>\n      <th>13</th>\n      <td>M5B</td>\n      <td>Downtown Toronto</td>\n      <td>Garden District, Ryerson</td>\n    </tr>\n    <tr>\n      <th>14</th>\n      <td>M6B</td>\n      <td>North York</td>\n      <td>Glencairn</td>\n    </tr>\n    <tr>\n      <th>17</th>\n      <td>M9B</td>\n      <td>Etobicoke</td>\n      <td>West Deane Park , Princess Gardens , Martin Gr...</td>\n    </tr>\n    <tr>\n      <th>18</th>\n      <td>M1C</td>\n      <td>Scarborough</td>\n      <td>Rouge Hill , Port Union , Highland Creek</td>\n    </tr>\n    <tr>\n      <th>20</th>\n      <td>M3C</td>\n      <td>North YorkSouth</td>\n      <td>Don Mills,Flemingdon Park</td>\n    </tr>\n    <tr>\n      <th>21</th>\n      <td>M4C</td>\n      <td>East York</td>\n      <td>Woodbine Heights</td>\n    </tr>\n    <tr>\n      <th>22</th>\n      <td>M5C</td>\n      <td>Downtown Toronto</td>\n      <td>St. James Town</td>\n    </tr>\n    <tr>\n      <th>23</th>\n      <td>M6C</td>\n      <td>York</td>\n      <td>Humewood-Cedarvale</td>\n    </tr>\n    <tr>\n      <th>26</th>\n      <td>M9C</td>\n      <td>Etobicoke</td>\n      <td>Eringate , Bloordale Gardens , Old Burnhamthor...</td>\n    </tr>\n    <tr>\n      <th>27</th>\n      <td>M1E</td>\n      <td>Scarborough</td>\n      <td>Guildwood , Morningside , West Hill</td>\n    </tr>\n    <tr>\n      <th>30</th>\n      <td>M4E</td>\n      <td>East Toronto</td>\n      <td>The Beaches</td>\n    </tr>\n    <tr>\n      <th>31</th>\n      <td>M5E</td>\n      <td>Downtown Toronto</td>\n      <td>Berczy Park</td>\n    </tr>\n    <tr>\n      <th>32</th>\n      <td>M6E</td>\n      <td>York</td>\n      <td>Caledonia-Fairbanks</td>\n    </tr>\n    <tr>\n      <th>36</th>\n      <td>M1G</td>\n      <td>Scarborough</td>\n      <td>Woburn</td>\n    </tr>\n    <tr>\n      <th>39</th>\n      <td>M4G</td>\n      <td>East York</td>\n      <td>Leaside</td>\n    </tr>\n    <tr>\n      <th>40</th>\n      <td>M5G</td>\n      <td>Downtown Toronto</td>\n      <td>Central Bay Street</td>\n    </tr>\n    <tr>\n      <th>41</th>\n      <td>M6G</td>\n      <td>Downtown Toronto</td>\n      <td>Christie</td>\n    </tr>\n    <tr>\n      <th>45</th>\n      <td>M1H</td>\n      <td>Scarborough</td>\n      <td>Cedarbrae</td>\n    </tr>\n    <tr>\n      <th>46</th>\n      <td>M2H</td>\n      <td>North York</td>\n      <td>Hillcrest Village</td>\n    </tr>\n    <tr>\n      <th>47</th>\n      <td>M3H</td>\n      <td>North York</td>\n      <td>Bathurst Manor , Wilson Heights , Downsview North</td>\n    </tr>\n    <tr>\n      <th>48</th>\n      <td>M4H</td>\n      <td>East York</td>\n      <td>Thorncliffe Park</td>\n    </tr>\n    <tr>\n      <th>...</th>\n      <td>...</td>\n      <td>...</td>\n      <td>...</td>\n    </tr>\n    <tr>\n      <th>111</th>\n      <td>M4R</td>\n      <td>Central Toronto</td>\n      <td>North Toronto West</td>\n    </tr>\n    <tr>\n      <th>112</th>\n      <td>M5R</td>\n      <td>Central Toronto</td>\n      <td>The Annex , North Midtown , Yorkville</td>\n    </tr>\n    <tr>\n      <th>113</th>\n      <td>M6R</td>\n      <td>West Toronto</td>\n      <td>Parkdale , Roncesvalles</td>\n    </tr>\n    <tr>\n      <th>114</th>\n      <td>M7R</td>\n      <td>MississaugaCanada Post Gateway Processing Centre</td>\n      <td>Enclave of L4W</td>\n    </tr>\n    <tr>\n      <th>116</th>\n      <td>M9R</td>\n      <td>Etobicoke</td>\n      <td>Kingsview Village , St. Phillips , Martin Grov...</td>\n    </tr>\n    <tr>\n      <th>117</th>\n      <td>M1S</td>\n      <td>Scarborough</td>\n      <td>Agincourt</td>\n    </tr>\n    <tr>\n      <th>120</th>\n      <td>M4S</td>\n      <td>Central Toronto</td>\n      <td>Davisville</td>\n    </tr>\n    <tr>\n      <th>121</th>\n      <td>M5S</td>\n      <td>Downtown Toronto</td>\n      <td>University of Toronto , Harbord</td>\n    </tr>\n    <tr>\n      <th>122</th>\n      <td>M6S</td>\n      <td>West Toronto</td>\n      <td>Runnymede , Swansea</td>\n    </tr>\n    <tr>\n      <th>126</th>\n      <td>M1T</td>\n      <td>Scarborough</td>\n      <td>Clarks Corners , Tam O'Shanter , Sullivan</td>\n    </tr>\n    <tr>\n      <th>129</th>\n      <td>M4T</td>\n      <td>Central Toronto</td>\n      <td>Moore Park , Summerhill East</td>\n    </tr>\n    <tr>\n      <th>130</th>\n      <td>M5T</td>\n      <td>Downtown Toronto</td>\n      <td>Kensington Market , Chinatown , Grange Park</td>\n    </tr>\n    <tr>\n      <th>135</th>\n      <td>M1V</td>\n      <td>Scarborough</td>\n      <td>Milliken , Agincourt North , Steeles East , L'...</td>\n    </tr>\n    <tr>\n      <th>138</th>\n      <td>M4V</td>\n      <td>Central Toronto</td>\n      <td>Summerhill West , Rathnelly , South Hill , For...</td>\n    </tr>\n    <tr>\n      <th>139</th>\n      <td>M5V</td>\n      <td>Downtown Toronto</td>\n      <td>CN Tower , King and Spadina , Railway Lands , ...</td>\n    </tr>\n    <tr>\n      <th>142</th>\n      <td>M8V</td>\n      <td>Etobicoke</td>\n      <td>New Toronto , Mimico South , Humber Bay Shores</td>\n    </tr>\n    <tr>\n      <th>143</th>\n      <td>M9V</td>\n      <td>Etobicoke</td>\n      <td>South Steeles , Silverstone , Humbergate , Jam...</td>\n    </tr>\n    <tr>\n      <th>144</th>\n      <td>M1W</td>\n      <td>Scarborough</td>\n      <td>Steeles West , L'Amoreaux West</td>\n    </tr>\n    <tr>\n      <th>147</th>\n      <td>M4W</td>\n      <td>Downtown Toronto</td>\n      <td>Rosedale</td>\n    </tr>\n    <tr>\n      <th>148</th>\n      <td>M5W</td>\n      <td>Downtown TorontoStn A PO Boxes25 The Esplanade</td>\n      <td>Enclave of M5E</td>\n    </tr>\n    <tr>\n      <th>151</th>\n      <td>M8W</td>\n      <td>Etobicoke</td>\n      <td>Alderwood , Long Branch</td>\n    </tr>\n    <tr>\n      <th>152</th>\n      <td>M9W</td>\n      <td>EtobicokeNorthwest</td>\n      <td>Clairville , Humberwood , Woodbine Downs , Wes...</td>\n    </tr>\n    <tr>\n      <th>153</th>\n      <td>M1X</td>\n      <td>Scarborough</td>\n      <td>Upper Rouge</td>\n    </tr>\n    <tr>\n      <th>156</th>\n      <td>M4X</td>\n      <td>Downtown Toronto</td>\n      <td>St. James Town , Cabbagetown</td>\n    </tr>\n    <tr>\n      <th>157</th>\n      <td>M5X</td>\n      <td>Downtown Toronto</td>\n      <td>First Canadian Place , Underground city</td>\n    </tr>\n    <tr>\n      <th>160</th>\n      <td>M8X</td>\n      <td>Etobicoke</td>\n      <td>The Kingsway , Montgomery Road , Old Mill North</td>\n    </tr>\n    <tr>\n      <th>165</th>\n      <td>M4Y</td>\n      <td>Downtown Toronto</td>\n      <td>Church and Wellesley</td>\n    </tr>\n    <tr>\n      <th>168</th>\n      <td>M7Y</td>\n      <td>East TorontoBusiness reply mail Processing Cen...</td>\n      <td>Enclave of M4L</td>\n    </tr>\n    <tr>\n      <th>169</th>\n      <td>M8Y</td>\n      <td>Etobicoke</td>\n      <td>Old Mill South , King's Mill Park , Sunnylea ,...</td>\n    </tr>\n    <tr>\n      <th>178</th>\n      <td>M8Z</td>\n      <td>Etobicoke</td>\n      <td>Mimico NW , The Queensway West , South of Bloo...</td>\n    </tr>\n  </tbody>\n</table>\n<p>103 rows \u00d7 3 columns</p>\n</div>",
                        "text/plain": "    PostalCode                                            Borough  \\\n2          M3A                                         North York   \n3          M4A                                         North York   \n4          M5A                                   Downtown Toronto   \n5          M6A                                         North York   \n6          M7A       Queen's Park / Ontario Provincial Government   \n8          M9A                                          Etobicoke   \n9          M1B                                        Scarborough   \n11         M3B                                    North YorkNorth   \n12         M4B                                          East York   \n13         M5B                                   Downtown Toronto   \n14         M6B                                         North York   \n17         M9B                                          Etobicoke   \n18         M1C                                        Scarborough   \n20         M3C                                    North YorkSouth   \n21         M4C                                          East York   \n22         M5C                                   Downtown Toronto   \n23         M6C                                               York   \n26         M9C                                          Etobicoke   \n27         M1E                                        Scarborough   \n30         M4E                                       East Toronto   \n31         M5E                                   Downtown Toronto   \n32         M6E                                               York   \n36         M1G                                        Scarborough   \n39         M4G                                          East York   \n40         M5G                                   Downtown Toronto   \n41         M6G                                   Downtown Toronto   \n45         M1H                                        Scarborough   \n46         M2H                                         North York   \n47         M3H                                         North York   \n48         M4H                                          East York   \n..         ...                                                ...   \n111        M4R                                    Central Toronto   \n112        M5R                                    Central Toronto   \n113        M6R                                       West Toronto   \n114        M7R   MississaugaCanada Post Gateway Processing Centre   \n116        M9R                                          Etobicoke   \n117        M1S                                        Scarborough   \n120        M4S                                    Central Toronto   \n121        M5S                                   Downtown Toronto   \n122        M6S                                       West Toronto   \n126        M1T                                        Scarborough   \n129        M4T                                    Central Toronto   \n130        M5T                                   Downtown Toronto   \n135        M1V                                        Scarborough   \n138        M4V                                    Central Toronto   \n139        M5V                                   Downtown Toronto   \n142        M8V                                          Etobicoke   \n143        M9V                                          Etobicoke   \n144        M1W                                        Scarborough   \n147        M4W                                   Downtown Toronto   \n148        M5W     Downtown TorontoStn A PO Boxes25 The Esplanade   \n151        M8W                                          Etobicoke   \n152        M9W                                 EtobicokeNorthwest   \n153        M1X                                        Scarborough   \n156        M4X                                   Downtown Toronto   \n157        M5X                                   Downtown Toronto   \n160        M8X                                          Etobicoke   \n165        M4Y                                   Downtown Toronto   \n168        M7Y  East TorontoBusiness reply mail Processing Cen...   \n169        M8Y                                          Etobicoke   \n178        M8Z                                          Etobicoke   \n\n                                          Neighborhood  \n2                                            Parkwoods  \n3                                     Victoria Village  \n4                           Regent Park , Harbourfront  \n5                    Lawrence Manor , Lawrence Heights  \n6         Queen's Park / Ontario Provincial Government  \n8                                     Islington Avenue  \n9                                      Malvern , Rouge  \n11                                           Don Mills  \n12                    Parkview Hill , Woodbine Gardens  \n13                            Garden District, Ryerson  \n14                                           Glencairn  \n17   West Deane Park , Princess Gardens , Martin Gr...  \n18            Rouge Hill , Port Union , Highland Creek  \n20                           Don Mills,Flemingdon Park  \n21                                    Woodbine Heights  \n22                                      St. James Town  \n23                                  Humewood-Cedarvale  \n26   Eringate , Bloordale Gardens , Old Burnhamthor...  \n27                 Guildwood , Morningside , West Hill  \n30                                         The Beaches  \n31                                         Berczy Park  \n32                                 Caledonia-Fairbanks  \n36                                              Woburn  \n39                                             Leaside  \n40                                  Central Bay Street  \n41                                            Christie  \n45                                           Cedarbrae  \n46                                   Hillcrest Village  \n47   Bathurst Manor , Wilson Heights , Downsview North  \n48                                    Thorncliffe Park  \n..                                                 ...  \n111                                 North Toronto West  \n112              The Annex , North Midtown , Yorkville  \n113                            Parkdale , Roncesvalles  \n114                                     Enclave of L4W  \n116  Kingsview Village , St. Phillips , Martin Grov...  \n117                                          Agincourt  \n120                                         Davisville  \n121                    University of Toronto , Harbord  \n122                                Runnymede , Swansea  \n126          Clarks Corners , Tam O'Shanter , Sullivan  \n129                       Moore Park , Summerhill East  \n130        Kensington Market , Chinatown , Grange Park  \n135  Milliken , Agincourt North , Steeles East , L'...  \n138  Summerhill West , Rathnelly , South Hill , For...  \n139  CN Tower , King and Spadina , Railway Lands , ...  \n142     New Toronto , Mimico South , Humber Bay Shores  \n143  South Steeles , Silverstone , Humbergate , Jam...  \n144                     Steeles West , L'Amoreaux West  \n147                                           Rosedale  \n148                                     Enclave of M5E  \n151                            Alderwood , Long Branch  \n152  Clairville , Humberwood , Woodbine Downs , Wes...  \n153                                        Upper Rouge  \n156                       St. James Town , Cabbagetown  \n157            First Canadian Place , Underground city  \n160    The Kingsway , Montgomery Road , Old Mill North  \n165                               Church and Wellesley  \n168                                     Enclave of M4L  \n169  Old Mill South , King's Mill Park , Sunnylea ,...  \n178  Mimico NW , The Queensway West , South of Bloo...  \n\n[103 rows x 3 columns]"
                    },
                    "execution_count": 27,
                    "metadata": {},
                    "output_type": "execute_result"
                }
            ],
            "source": "df"
        },
        {
            "cell_type": "code",
            "execution_count": 63,
            "metadata": {},
            "outputs": [],
            "source": "df.sort_values(['PostalCode'], ascending = True, inplace = True)"
        },
        {
            "cell_type": "markdown",
            "metadata": {},
            "source": "### Cleaning the dataframe"
        },
        {
            "cell_type": "code",
            "execution_count": 60,
            "metadata": {},
            "outputs": [],
            "source": "df.loc[(df.Borough == 'MississaugaCanada Post Gateway Processing Centre', 'Borough')] = \"Mississauga\"\ndf.loc[(df.Neighborhood == 'Enclave of L4W', 'Neighborhood')] = \"Canada Post Gateway Processing Centre('Enclave of L4W')\""
        },
        {
            "cell_type": "code",
            "execution_count": 61,
            "metadata": {},
            "outputs": [],
            "source": "df.loc[(df.Borough == 'East TorontoBusiness reply mail Processing Centre969 Eastern', 'Borough')] = 'East Toronto'\ndf.loc[(df.Neighborhood == 'Enclave of M4L', 'Neighborhood')] = \"Business reply mail Processing Centre969 Eastern('Enclave of M4L')\""
        },
        {
            "cell_type": "code",
            "execution_count": 62,
            "metadata": {},
            "outputs": [],
            "source": "df.loc[(df.Borough == 'Downtown TorontoStn A PO Boxes25 The Esplanade', 'Borough')] = \"Downtown Toronto\"\ndf.loc[(df.Neighborhood == 'Enclave of M5E', 'Neighborhood')] = \"Stn A PO Boxes 25 The Esplanade(Enclave of M5E)\"\n"
        },
        {
            "cell_type": "code",
            "execution_count": 104,
            "metadata": {
                "scrolled": true
            },
            "outputs": [
                {
                    "data": {
                        "text/html": "<div>\n<style scoped>\n    .dataframe tbody tr th:only-of-type {\n        vertical-align: middle;\n    }\n\n    .dataframe tbody tr th {\n        vertical-align: top;\n    }\n\n    .dataframe thead th {\n        text-align: right;\n    }\n</style>\n<table border=\"1\" class=\"dataframe\">\n  <thead>\n    <tr style=\"text-align: right;\">\n      <th></th>\n      <th>PostalCode</th>\n      <th>Borough</th>\n      <th>Neighborhood</th>\n    </tr>\n  </thead>\n  <tbody>\n    <tr>\n      <th>9</th>\n      <td>M1B</td>\n      <td>Scarborough</td>\n      <td>Malvern , Rouge</td>\n    </tr>\n    <tr>\n      <th>18</th>\n      <td>M1C</td>\n      <td>Scarborough</td>\n      <td>Rouge Hill , Port Union , Highland Creek</td>\n    </tr>\n    <tr>\n      <th>27</th>\n      <td>M1E</td>\n      <td>Scarborough</td>\n      <td>Guildwood , Morningside , West Hill</td>\n    </tr>\n    <tr>\n      <th>36</th>\n      <td>M1G</td>\n      <td>Scarborough</td>\n      <td>Woburn</td>\n    </tr>\n    <tr>\n      <th>45</th>\n      <td>M1H</td>\n      <td>Scarborough</td>\n      <td>Cedarbrae</td>\n    </tr>\n  </tbody>\n</table>\n</div>",
                        "text/plain": "   PostalCode      Borough                              Neighborhood\n9         M1B  Scarborough                           Malvern , Rouge\n18        M1C  Scarborough  Rouge Hill , Port Union , Highland Creek\n27        M1E  Scarborough       Guildwood , Morningside , West Hill\n36        M1G  Scarborough                                    Woburn\n45        M1H  Scarborough                                 Cedarbrae"
                    },
                    "execution_count": 104,
                    "metadata": {},
                    "output_type": "execute_result"
                }
            ],
            "source": "df.head()"
        },
        {
            "cell_type": "code",
            "execution_count": 113,
            "metadata": {
                "scrolled": true
            },
            "outputs": [],
            "source": "df.set_index('PostalCode')\ndf.reset_index(inplace = True)\ndf.drop(['index'], axis = 1, inplace = True)"
        },
        {
            "cell_type": "code",
            "execution_count": 114,
            "metadata": {},
            "outputs": [
                {
                    "data": {
                        "text/html": "<div>\n<style scoped>\n    .dataframe tbody tr th:only-of-type {\n        vertical-align: middle;\n    }\n\n    .dataframe tbody tr th {\n        vertical-align: top;\n    }\n\n    .dataframe thead th {\n        text-align: right;\n    }\n</style>\n<table border=\"1\" class=\"dataframe\">\n  <thead>\n    <tr style=\"text-align: right;\">\n      <th></th>\n      <th>PostalCode</th>\n      <th>Borough</th>\n      <th>Neighborhood</th>\n    </tr>\n  </thead>\n  <tbody>\n    <tr>\n      <th>0</th>\n      <td>M1B</td>\n      <td>Scarborough</td>\n      <td>Malvern , Rouge</td>\n    </tr>\n    <tr>\n      <th>1</th>\n      <td>M1C</td>\n      <td>Scarborough</td>\n      <td>Rouge Hill , Port Union , Highland Creek</td>\n    </tr>\n    <tr>\n      <th>2</th>\n      <td>M1E</td>\n      <td>Scarborough</td>\n      <td>Guildwood , Morningside , West Hill</td>\n    </tr>\n    <tr>\n      <th>3</th>\n      <td>M1G</td>\n      <td>Scarborough</td>\n      <td>Woburn</td>\n    </tr>\n    <tr>\n      <th>4</th>\n      <td>M1H</td>\n      <td>Scarborough</td>\n      <td>Cedarbrae</td>\n    </tr>\n  </tbody>\n</table>\n</div>",
                        "text/plain": "  PostalCode      Borough                              Neighborhood\n0        M1B  Scarborough                           Malvern , Rouge\n1        M1C  Scarborough  Rouge Hill , Port Union , Highland Creek\n2        M1E  Scarborough       Guildwood , Morningside , West Hill\n3        M1G  Scarborough                                    Woburn\n4        M1H  Scarborough                                 Cedarbrae"
                    },
                    "execution_count": 114,
                    "metadata": {},
                    "output_type": "execute_result"
                }
            ],
            "source": "df.head()"
        },
        {
            "cell_type": "code",
            "execution_count": 115,
            "metadata": {},
            "outputs": [
                {
                    "data": {
                        "text/plain": "(103, 3)"
                    },
                    "execution_count": 115,
                    "metadata": {},
                    "output_type": "execute_result"
                }
            ],
            "source": "df.shape"
        },
        {
            "cell_type": "markdown",
            "metadata": {},
            "source": "## Part 2: Adding location coordinates of the neighborhood to the main dataframe"
        },
        {
            "cell_type": "code",
            "execution_count": 35,
            "metadata": {
                "collapsed": true
            },
            "outputs": [
                {
                    "name": "stdout",
                    "output_type": "stream",
                    "text": "Requirement already satisfied: geopy in /opt/conda/envs/Python36/lib/python3.6/site-packages (1.18.1)\nRequirement already satisfied: geographiclib<2,>=1.49 in /opt/conda/envs/Python36/lib/python3.6/site-packages (from geopy) (1.49)\nRequirement already satisfied: geocoder in /opt/conda/envs/Python36/lib/python3.6/site-packages (1.38.1)\nRequirement already satisfied: six in /opt/conda/envs/Python36/lib/python3.6/site-packages (from geocoder) (1.12.0)\nRequirement already satisfied: ratelim in /opt/conda/envs/Python36/lib/python3.6/site-packages (from geocoder) (0.1.6)\nRequirement already satisfied: requests in /opt/conda/envs/Python36/lib/python3.6/site-packages (from geocoder) (2.21.0)\nRequirement already satisfied: future in /opt/conda/envs/Python36/lib/python3.6/site-packages (from geocoder) (0.17.1)\nRequirement already satisfied: click in /opt/conda/envs/Python36/lib/python3.6/site-packages (from geocoder) (7.0)\nRequirement already satisfied: decorator in /opt/conda/envs/Python36/lib/python3.6/site-packages (from ratelim->geocoder) (4.3.2)\nRequirement already satisfied: certifi>=2017.4.17 in /opt/conda/envs/Python36/lib/python3.6/site-packages (from requests->geocoder) (2019.11.28)\nRequirement already satisfied: idna<2.9,>=2.5 in /opt/conda/envs/Python36/lib/python3.6/site-packages (from requests->geocoder) (2.8)\nRequirement already satisfied: urllib3<1.25,>=1.21.1 in /opt/conda/envs/Python36/lib/python3.6/site-packages (from requests->geocoder) (1.24.1)\nRequirement already satisfied: chardet<3.1.0,>=3.0.2 in /opt/conda/envs/Python36/lib/python3.6/site-packages (from requests->geocoder) (3.0.4)\n"
                }
            ],
            "source": "!pip install geopy\n\nfrom geopy import geocoders # import geocoder\n\n!pip install geocoder\nimport geocoder"
        },
        {
            "cell_type": "code",
            "execution_count": 127,
            "metadata": {},
            "outputs": [],
            "source": "# initialize your variable to None\n\n#lat_lng_coords = None\n\n# loop until you get the coordinates\n#while(lat_lng_coords is None):\n  #g = geocoder.google('{}, Toronto, Ontario'.format('M3A'))\n  #lat_lng_coords = g.latlng\n\n#latitude = lat_lng_coords[0]\n#longitude = lat_lng_coords[1])"
        },
        {
            "cell_type": "code",
            "execution_count": 3,
            "metadata": {},
            "outputs": [],
            "source": "df_latlong = pd.read_csv(\"http://cocl.us/Geospatial_data\")"
        },
        {
            "cell_type": "code",
            "execution_count": 4,
            "metadata": {},
            "outputs": [
                {
                    "data": {
                        "text/html": "<div>\n<style scoped>\n    .dataframe tbody tr th:only-of-type {\n        vertical-align: middle;\n    }\n\n    .dataframe tbody tr th {\n        vertical-align: top;\n    }\n\n    .dataframe thead th {\n        text-align: right;\n    }\n</style>\n<table border=\"1\" class=\"dataframe\">\n  <thead>\n    <tr style=\"text-align: right;\">\n      <th></th>\n      <th>Latitude</th>\n      <th>Longitude</th>\n    </tr>\n  </thead>\n  <tbody>\n    <tr>\n      <th>count</th>\n      <td>103.000000</td>\n      <td>103.000000</td>\n    </tr>\n    <tr>\n      <th>mean</th>\n      <td>43.704608</td>\n      <td>-79.397153</td>\n    </tr>\n    <tr>\n      <th>std</th>\n      <td>0.052463</td>\n      <td>0.097146</td>\n    </tr>\n    <tr>\n      <th>min</th>\n      <td>43.602414</td>\n      <td>-79.615819</td>\n    </tr>\n    <tr>\n      <th>25%</th>\n      <td>43.660567</td>\n      <td>-79.464763</td>\n    </tr>\n    <tr>\n      <th>50%</th>\n      <td>43.696948</td>\n      <td>-79.388790</td>\n    </tr>\n    <tr>\n      <th>75%</th>\n      <td>43.745320</td>\n      <td>-79.340923</td>\n    </tr>\n    <tr>\n      <th>max</th>\n      <td>43.836125</td>\n      <td>-79.160497</td>\n    </tr>\n  </tbody>\n</table>\n</div>",
                        "text/plain": "         Latitude   Longitude\ncount  103.000000  103.000000\nmean    43.704608  -79.397153\nstd      0.052463    0.097146\nmin     43.602414  -79.615819\n25%     43.660567  -79.464763\n50%     43.696948  -79.388790\n75%     43.745320  -79.340923\nmax     43.836125  -79.160497"
                    },
                    "execution_count": 4,
                    "metadata": {},
                    "output_type": "execute_result"
                }
            ],
            "source": "df_latlong.describe()"
        },
        {
            "cell_type": "code",
            "execution_count": 7,
            "metadata": {
                "collapsed": true
            },
            "outputs": [
                {
                    "data": {
                        "text/html": "<div>\n<style scoped>\n    .dataframe tbody tr th:only-of-type {\n        vertical-align: middle;\n    }\n\n    .dataframe tbody tr th {\n        vertical-align: top;\n    }\n\n    .dataframe thead th {\n        text-align: right;\n    }\n</style>\n<table border=\"1\" class=\"dataframe\">\n  <thead>\n    <tr style=\"text-align: right;\">\n      <th></th>\n      <th>Postal Code</th>\n      <th>Latitude</th>\n      <th>Longitude</th>\n    </tr>\n  </thead>\n  <tbody>\n    <tr>\n      <th>0</th>\n      <td>M1B</td>\n      <td>43.806686</td>\n      <td>-79.194353</td>\n    </tr>\n    <tr>\n      <th>1</th>\n      <td>M1C</td>\n      <td>43.784535</td>\n      <td>-79.160497</td>\n    </tr>\n    <tr>\n      <th>2</th>\n      <td>M1E</td>\n      <td>43.763573</td>\n      <td>-79.188711</td>\n    </tr>\n    <tr>\n      <th>3</th>\n      <td>M1G</td>\n      <td>43.770992</td>\n      <td>-79.216917</td>\n    </tr>\n    <tr>\n      <th>4</th>\n      <td>M1H</td>\n      <td>43.773136</td>\n      <td>-79.239476</td>\n    </tr>\n    <tr>\n      <th>5</th>\n      <td>M1J</td>\n      <td>43.744734</td>\n      <td>-79.239476</td>\n    </tr>\n    <tr>\n      <th>6</th>\n      <td>M1K</td>\n      <td>43.727929</td>\n      <td>-79.262029</td>\n    </tr>\n    <tr>\n      <th>7</th>\n      <td>M1L</td>\n      <td>43.711112</td>\n      <td>-79.284577</td>\n    </tr>\n    <tr>\n      <th>8</th>\n      <td>M1M</td>\n      <td>43.716316</td>\n      <td>-79.239476</td>\n    </tr>\n    <tr>\n      <th>9</th>\n      <td>M1N</td>\n      <td>43.692657</td>\n      <td>-79.264848</td>\n    </tr>\n    <tr>\n      <th>10</th>\n      <td>M1P</td>\n      <td>43.757410</td>\n      <td>-79.273304</td>\n    </tr>\n    <tr>\n      <th>11</th>\n      <td>M1R</td>\n      <td>43.750072</td>\n      <td>-79.295849</td>\n    </tr>\n    <tr>\n      <th>12</th>\n      <td>M1S</td>\n      <td>43.794200</td>\n      <td>-79.262029</td>\n    </tr>\n    <tr>\n      <th>13</th>\n      <td>M1T</td>\n      <td>43.781638</td>\n      <td>-79.304302</td>\n    </tr>\n    <tr>\n      <th>14</th>\n      <td>M1V</td>\n      <td>43.815252</td>\n      <td>-79.284577</td>\n    </tr>\n    <tr>\n      <th>15</th>\n      <td>M1W</td>\n      <td>43.799525</td>\n      <td>-79.318389</td>\n    </tr>\n    <tr>\n      <th>16</th>\n      <td>M1X</td>\n      <td>43.836125</td>\n      <td>-79.205636</td>\n    </tr>\n    <tr>\n      <th>17</th>\n      <td>M2H</td>\n      <td>43.803762</td>\n      <td>-79.363452</td>\n    </tr>\n    <tr>\n      <th>18</th>\n      <td>M2J</td>\n      <td>43.778517</td>\n      <td>-79.346556</td>\n    </tr>\n    <tr>\n      <th>19</th>\n      <td>M2K</td>\n      <td>43.786947</td>\n      <td>-79.385975</td>\n    </tr>\n  </tbody>\n</table>\n</div>",
                        "text/plain": "   Postal Code   Latitude  Longitude\n0          M1B  43.806686 -79.194353\n1          M1C  43.784535 -79.160497\n2          M1E  43.763573 -79.188711\n3          M1G  43.770992 -79.216917\n4          M1H  43.773136 -79.239476\n5          M1J  43.744734 -79.239476\n6          M1K  43.727929 -79.262029\n7          M1L  43.711112 -79.284577\n8          M1M  43.716316 -79.239476\n9          M1N  43.692657 -79.264848\n10         M1P  43.757410 -79.273304\n11         M1R  43.750072 -79.295849\n12         M1S  43.794200 -79.262029\n13         M1T  43.781638 -79.304302\n14         M1V  43.815252 -79.284577\n15         M1W  43.799525 -79.318389\n16         M1X  43.836125 -79.205636\n17         M2H  43.803762 -79.363452\n18         M2J  43.778517 -79.346556\n19         M2K  43.786947 -79.385975"
                    },
                    "execution_count": 7,
                    "metadata": {},
                    "output_type": "execute_result"
                }
            ],
            "source": "df_latlong.head(20)"
        },
        {
            "cell_type": "code",
            "execution_count": 93,
            "metadata": {},
            "outputs": [],
            "source": "df_latlong.rename(columns = {'Postal Code' : 'PostalCode'}, inplace = True)"
        },
        {
            "cell_type": "code",
            "execution_count": 94,
            "metadata": {
                "scrolled": false
            },
            "outputs": [
                {
                    "data": {
                        "text/html": "<div>\n<style scoped>\n    .dataframe tbody tr th:only-of-type {\n        vertical-align: middle;\n    }\n\n    .dataframe tbody tr th {\n        vertical-align: top;\n    }\n\n    .dataframe thead th {\n        text-align: right;\n    }\n</style>\n<table border=\"1\" class=\"dataframe\">\n  <thead>\n    <tr style=\"text-align: right;\">\n      <th></th>\n      <th>PostalCode</th>\n      <th>Latitude</th>\n      <th>Longitude</th>\n    </tr>\n  </thead>\n  <tbody>\n    <tr>\n      <th>0</th>\n      <td>M1B</td>\n      <td>43.806686</td>\n      <td>-79.194353</td>\n    </tr>\n    <tr>\n      <th>1</th>\n      <td>M1C</td>\n      <td>43.784535</td>\n      <td>-79.160497</td>\n    </tr>\n    <tr>\n      <th>2</th>\n      <td>M1E</td>\n      <td>43.763573</td>\n      <td>-79.188711</td>\n    </tr>\n    <tr>\n      <th>3</th>\n      <td>M1G</td>\n      <td>43.770992</td>\n      <td>-79.216917</td>\n    </tr>\n    <tr>\n      <th>4</th>\n      <td>M1H</td>\n      <td>43.773136</td>\n      <td>-79.239476</td>\n    </tr>\n  </tbody>\n</table>\n</div>",
                        "text/plain": "  PostalCode   Latitude  Longitude\n0        M1B  43.806686 -79.194353\n1        M1C  43.784535 -79.160497\n2        M1E  43.763573 -79.188711\n3        M1G  43.770992 -79.216917\n4        M1H  43.773136 -79.239476"
                    },
                    "execution_count": 94,
                    "metadata": {},
                    "output_type": "execute_result"
                }
            ],
            "source": "df_latlong.head()"
        },
        {
            "cell_type": "code",
            "execution_count": 95,
            "metadata": {
                "collapsed": true
            },
            "outputs": [
                {
                    "data": {
                        "text/html": "<div>\n<style scoped>\n    .dataframe tbody tr th:only-of-type {\n        vertical-align: middle;\n    }\n\n    .dataframe tbody tr th {\n        vertical-align: top;\n    }\n\n    .dataframe thead th {\n        text-align: right;\n    }\n</style>\n<table border=\"1\" class=\"dataframe\">\n  <thead>\n    <tr style=\"text-align: right;\">\n      <th></th>\n      <th>Latitude</th>\n      <th>Longitude</th>\n    </tr>\n  </thead>\n  <tbody>\n    <tr>\n      <th>0</th>\n      <td>43.806686</td>\n      <td>-79.194353</td>\n    </tr>\n    <tr>\n      <th>1</th>\n      <td>43.784535</td>\n      <td>-79.160497</td>\n    </tr>\n    <tr>\n      <th>2</th>\n      <td>43.763573</td>\n      <td>-79.188711</td>\n    </tr>\n    <tr>\n      <th>3</th>\n      <td>43.770992</td>\n      <td>-79.216917</td>\n    </tr>\n    <tr>\n      <th>4</th>\n      <td>43.773136</td>\n      <td>-79.239476</td>\n    </tr>\n    <tr>\n      <th>5</th>\n      <td>43.744734</td>\n      <td>-79.239476</td>\n    </tr>\n    <tr>\n      <th>6</th>\n      <td>43.727929</td>\n      <td>-79.262029</td>\n    </tr>\n    <tr>\n      <th>7</th>\n      <td>43.711112</td>\n      <td>-79.284577</td>\n    </tr>\n    <tr>\n      <th>8</th>\n      <td>43.716316</td>\n      <td>-79.239476</td>\n    </tr>\n    <tr>\n      <th>9</th>\n      <td>43.692657</td>\n      <td>-79.264848</td>\n    </tr>\n    <tr>\n      <th>10</th>\n      <td>43.757410</td>\n      <td>-79.273304</td>\n    </tr>\n    <tr>\n      <th>11</th>\n      <td>43.750072</td>\n      <td>-79.295849</td>\n    </tr>\n    <tr>\n      <th>12</th>\n      <td>43.794200</td>\n      <td>-79.262029</td>\n    </tr>\n    <tr>\n      <th>13</th>\n      <td>43.781638</td>\n      <td>-79.304302</td>\n    </tr>\n    <tr>\n      <th>14</th>\n      <td>43.815252</td>\n      <td>-79.284577</td>\n    </tr>\n    <tr>\n      <th>15</th>\n      <td>43.799525</td>\n      <td>-79.318389</td>\n    </tr>\n    <tr>\n      <th>16</th>\n      <td>43.836125</td>\n      <td>-79.205636</td>\n    </tr>\n    <tr>\n      <th>17</th>\n      <td>43.803762</td>\n      <td>-79.363452</td>\n    </tr>\n    <tr>\n      <th>18</th>\n      <td>43.778517</td>\n      <td>-79.346556</td>\n    </tr>\n    <tr>\n      <th>19</th>\n      <td>43.786947</td>\n      <td>-79.385975</td>\n    </tr>\n    <tr>\n      <th>20</th>\n      <td>43.757490</td>\n      <td>-79.374714</td>\n    </tr>\n    <tr>\n      <th>21</th>\n      <td>43.789053</td>\n      <td>-79.408493</td>\n    </tr>\n    <tr>\n      <th>22</th>\n      <td>43.770120</td>\n      <td>-79.408493</td>\n    </tr>\n    <tr>\n      <th>23</th>\n      <td>43.752758</td>\n      <td>-79.400049</td>\n    </tr>\n    <tr>\n      <th>24</th>\n      <td>43.782736</td>\n      <td>-79.442259</td>\n    </tr>\n    <tr>\n      <th>25</th>\n      <td>43.753259</td>\n      <td>-79.329656</td>\n    </tr>\n    <tr>\n      <th>26</th>\n      <td>43.745906</td>\n      <td>-79.352188</td>\n    </tr>\n    <tr>\n      <th>27</th>\n      <td>43.725900</td>\n      <td>-79.340923</td>\n    </tr>\n    <tr>\n      <th>28</th>\n      <td>43.754328</td>\n      <td>-79.442259</td>\n    </tr>\n    <tr>\n      <th>29</th>\n      <td>43.767980</td>\n      <td>-79.487262</td>\n    </tr>\n    <tr>\n      <th>...</th>\n      <td>...</td>\n      <td>...</td>\n    </tr>\n    <tr>\n      <th>73</th>\n      <td>43.693781</td>\n      <td>-79.428191</td>\n    </tr>\n    <tr>\n      <th>74</th>\n      <td>43.689026</td>\n      <td>-79.453512</td>\n    </tr>\n    <tr>\n      <th>75</th>\n      <td>43.669542</td>\n      <td>-79.422564</td>\n    </tr>\n    <tr>\n      <th>76</th>\n      <td>43.669005</td>\n      <td>-79.442259</td>\n    </tr>\n    <tr>\n      <th>77</th>\n      <td>43.647927</td>\n      <td>-79.419750</td>\n    </tr>\n    <tr>\n      <th>78</th>\n      <td>43.636847</td>\n      <td>-79.428191</td>\n    </tr>\n    <tr>\n      <th>79</th>\n      <td>43.713756</td>\n      <td>-79.490074</td>\n    </tr>\n    <tr>\n      <th>80</th>\n      <td>43.691116</td>\n      <td>-79.476013</td>\n    </tr>\n    <tr>\n      <th>81</th>\n      <td>43.673185</td>\n      <td>-79.487262</td>\n    </tr>\n    <tr>\n      <th>82</th>\n      <td>43.661608</td>\n      <td>-79.464763</td>\n    </tr>\n    <tr>\n      <th>83</th>\n      <td>43.648960</td>\n      <td>-79.456325</td>\n    </tr>\n    <tr>\n      <th>84</th>\n      <td>43.651571</td>\n      <td>-79.484450</td>\n    </tr>\n    <tr>\n      <th>85</th>\n      <td>43.662301</td>\n      <td>-79.389494</td>\n    </tr>\n    <tr>\n      <th>86</th>\n      <td>43.636966</td>\n      <td>-79.615819</td>\n    </tr>\n    <tr>\n      <th>87</th>\n      <td>43.662744</td>\n      <td>-79.321558</td>\n    </tr>\n    <tr>\n      <th>88</th>\n      <td>43.605647</td>\n      <td>-79.501321</td>\n    </tr>\n    <tr>\n      <th>89</th>\n      <td>43.602414</td>\n      <td>-79.543484</td>\n    </tr>\n    <tr>\n      <th>90</th>\n      <td>43.653654</td>\n      <td>-79.506944</td>\n    </tr>\n    <tr>\n      <th>91</th>\n      <td>43.636258</td>\n      <td>-79.498509</td>\n    </tr>\n    <tr>\n      <th>92</th>\n      <td>43.628841</td>\n      <td>-79.520999</td>\n    </tr>\n    <tr>\n      <th>93</th>\n      <td>43.667856</td>\n      <td>-79.532242</td>\n    </tr>\n    <tr>\n      <th>94</th>\n      <td>43.650943</td>\n      <td>-79.554724</td>\n    </tr>\n    <tr>\n      <th>95</th>\n      <td>43.643515</td>\n      <td>-79.577201</td>\n    </tr>\n    <tr>\n      <th>96</th>\n      <td>43.756303</td>\n      <td>-79.565963</td>\n    </tr>\n    <tr>\n      <th>97</th>\n      <td>43.724766</td>\n      <td>-79.532242</td>\n    </tr>\n    <tr>\n      <th>98</th>\n      <td>43.706876</td>\n      <td>-79.518188</td>\n    </tr>\n    <tr>\n      <th>99</th>\n      <td>43.696319</td>\n      <td>-79.532242</td>\n    </tr>\n    <tr>\n      <th>100</th>\n      <td>43.688905</td>\n      <td>-79.554724</td>\n    </tr>\n    <tr>\n      <th>101</th>\n      <td>43.739416</td>\n      <td>-79.588437</td>\n    </tr>\n    <tr>\n      <th>102</th>\n      <td>43.706748</td>\n      <td>-79.594054</td>\n    </tr>\n  </tbody>\n</table>\n<p>103 rows \u00d7 2 columns</p>\n</div>",
                        "text/plain": "      Latitude  Longitude\n0    43.806686 -79.194353\n1    43.784535 -79.160497\n2    43.763573 -79.188711\n3    43.770992 -79.216917\n4    43.773136 -79.239476\n5    43.744734 -79.239476\n6    43.727929 -79.262029\n7    43.711112 -79.284577\n8    43.716316 -79.239476\n9    43.692657 -79.264848\n10   43.757410 -79.273304\n11   43.750072 -79.295849\n12   43.794200 -79.262029\n13   43.781638 -79.304302\n14   43.815252 -79.284577\n15   43.799525 -79.318389\n16   43.836125 -79.205636\n17   43.803762 -79.363452\n18   43.778517 -79.346556\n19   43.786947 -79.385975\n20   43.757490 -79.374714\n21   43.789053 -79.408493\n22   43.770120 -79.408493\n23   43.752758 -79.400049\n24   43.782736 -79.442259\n25   43.753259 -79.329656\n26   43.745906 -79.352188\n27   43.725900 -79.340923\n28   43.754328 -79.442259\n29   43.767980 -79.487262\n..         ...        ...\n73   43.693781 -79.428191\n74   43.689026 -79.453512\n75   43.669542 -79.422564\n76   43.669005 -79.442259\n77   43.647927 -79.419750\n78   43.636847 -79.428191\n79   43.713756 -79.490074\n80   43.691116 -79.476013\n81   43.673185 -79.487262\n82   43.661608 -79.464763\n83   43.648960 -79.456325\n84   43.651571 -79.484450\n85   43.662301 -79.389494\n86   43.636966 -79.615819\n87   43.662744 -79.321558\n88   43.605647 -79.501321\n89   43.602414 -79.543484\n90   43.653654 -79.506944\n91   43.636258 -79.498509\n92   43.628841 -79.520999\n93   43.667856 -79.532242\n94   43.650943 -79.554724\n95   43.643515 -79.577201\n96   43.756303 -79.565963\n97   43.724766 -79.532242\n98   43.706876 -79.518188\n99   43.696319 -79.532242\n100  43.688905 -79.554724\n101  43.739416 -79.588437\n102  43.706748 -79.594054\n\n[103 rows x 2 columns]"
                    },
                    "execution_count": 95,
                    "metadata": {},
                    "output_type": "execute_result"
                }
            ],
            "source": "df_latlong[['Latitude', 'Longitude']]"
        },
        {
            "cell_type": "code",
            "execution_count": 118,
            "metadata": {},
            "outputs": [],
            "source": "df_coord = df_latlong[['Latitude', 'Longitude']]"
        },
        {
            "cell_type": "code",
            "execution_count": 122,
            "metadata": {},
            "outputs": [],
            "source": "df_con = [df, df_coord]"
        },
        {
            "cell_type": "code",
            "execution_count": 125,
            "metadata": {},
            "outputs": [],
            "source": "df_toronto = pd.concat(df_con, axis = 1, join = 'inner', ignore_index = False, sort = True)"
        },
        {
            "cell_type": "code",
            "execution_count": 126,
            "metadata": {},
            "outputs": [
                {
                    "data": {
                        "text/html": "<div>\n<style scoped>\n    .dataframe tbody tr th:only-of-type {\n        vertical-align: middle;\n    }\n\n    .dataframe tbody tr th {\n        vertical-align: top;\n    }\n\n    .dataframe thead th {\n        text-align: right;\n    }\n</style>\n<table border=\"1\" class=\"dataframe\">\n  <thead>\n    <tr style=\"text-align: right;\">\n      <th></th>\n      <th>PostalCode</th>\n      <th>Borough</th>\n      <th>Neighborhood</th>\n      <th>Latitude</th>\n      <th>Longitude</th>\n    </tr>\n  </thead>\n  <tbody>\n    <tr>\n      <th>0</th>\n      <td>M1B</td>\n      <td>Scarborough</td>\n      <td>Malvern , Rouge</td>\n      <td>43.806686</td>\n      <td>-79.194353</td>\n    </tr>\n    <tr>\n      <th>1</th>\n      <td>M1C</td>\n      <td>Scarborough</td>\n      <td>Rouge Hill , Port Union , Highland Creek</td>\n      <td>43.784535</td>\n      <td>-79.160497</td>\n    </tr>\n    <tr>\n      <th>2</th>\n      <td>M1E</td>\n      <td>Scarborough</td>\n      <td>Guildwood , Morningside , West Hill</td>\n      <td>43.763573</td>\n      <td>-79.188711</td>\n    </tr>\n    <tr>\n      <th>3</th>\n      <td>M1G</td>\n      <td>Scarborough</td>\n      <td>Woburn</td>\n      <td>43.770992</td>\n      <td>-79.216917</td>\n    </tr>\n    <tr>\n      <th>4</th>\n      <td>M1H</td>\n      <td>Scarborough</td>\n      <td>Cedarbrae</td>\n      <td>43.773136</td>\n      <td>-79.239476</td>\n    </tr>\n    <tr>\n      <th>5</th>\n      <td>M1J</td>\n      <td>Scarborough</td>\n      <td>Scarborough Village</td>\n      <td>43.744734</td>\n      <td>-79.239476</td>\n    </tr>\n    <tr>\n      <th>6</th>\n      <td>M1K</td>\n      <td>Scarborough</td>\n      <td>Kennedy Park , Ionview , East Birchmount Park</td>\n      <td>43.727929</td>\n      <td>-79.262029</td>\n    </tr>\n    <tr>\n      <th>7</th>\n      <td>M1L</td>\n      <td>Scarborough</td>\n      <td>Golden Mile , Clairlea , Oakridge</td>\n      <td>43.711112</td>\n      <td>-79.284577</td>\n    </tr>\n    <tr>\n      <th>8</th>\n      <td>M1M</td>\n      <td>Scarborough</td>\n      <td>Cliffside , Cliffcrest , Scarborough Village West</td>\n      <td>43.716316</td>\n      <td>-79.239476</td>\n    </tr>\n    <tr>\n      <th>9</th>\n      <td>M1N</td>\n      <td>Scarborough</td>\n      <td>Birch Cliff , Cliffside West</td>\n      <td>43.692657</td>\n      <td>-79.264848</td>\n    </tr>\n    <tr>\n      <th>10</th>\n      <td>M1P</td>\n      <td>Scarborough</td>\n      <td>Dorset Park , Wexford Heights , Scarborough To...</td>\n      <td>43.757410</td>\n      <td>-79.273304</td>\n    </tr>\n    <tr>\n      <th>11</th>\n      <td>M1R</td>\n      <td>Scarborough</td>\n      <td>Wexford , Maryvale</td>\n      <td>43.750072</td>\n      <td>-79.295849</td>\n    </tr>\n    <tr>\n      <th>12</th>\n      <td>M1S</td>\n      <td>Scarborough</td>\n      <td>Agincourt</td>\n      <td>43.794200</td>\n      <td>-79.262029</td>\n    </tr>\n    <tr>\n      <th>13</th>\n      <td>M1T</td>\n      <td>Scarborough</td>\n      <td>Clarks Corners , Tam O'Shanter , Sullivan</td>\n      <td>43.781638</td>\n      <td>-79.304302</td>\n    </tr>\n    <tr>\n      <th>14</th>\n      <td>M1V</td>\n      <td>Scarborough</td>\n      <td>Milliken , Agincourt North , Steeles East , L'...</td>\n      <td>43.815252</td>\n      <td>-79.284577</td>\n    </tr>\n    <tr>\n      <th>15</th>\n      <td>M1W</td>\n      <td>Scarborough</td>\n      <td>Steeles West , L'Amoreaux West</td>\n      <td>43.799525</td>\n      <td>-79.318389</td>\n    </tr>\n    <tr>\n      <th>16</th>\n      <td>M1X</td>\n      <td>Scarborough</td>\n      <td>Upper Rouge</td>\n      <td>43.836125</td>\n      <td>-79.205636</td>\n    </tr>\n    <tr>\n      <th>17</th>\n      <td>M2H</td>\n      <td>North York</td>\n      <td>Hillcrest Village</td>\n      <td>43.803762</td>\n      <td>-79.363452</td>\n    </tr>\n    <tr>\n      <th>18</th>\n      <td>M2J</td>\n      <td>North York</td>\n      <td>Fairview , Henry Farm , Oriole</td>\n      <td>43.778517</td>\n      <td>-79.346556</td>\n    </tr>\n    <tr>\n      <th>19</th>\n      <td>M2K</td>\n      <td>North York</td>\n      <td>Bayview Village</td>\n      <td>43.786947</td>\n      <td>-79.385975</td>\n    </tr>\n    <tr>\n      <th>20</th>\n      <td>M2L</td>\n      <td>North York</td>\n      <td>York Mills , Silver Hills</td>\n      <td>43.757490</td>\n      <td>-79.374714</td>\n    </tr>\n    <tr>\n      <th>21</th>\n      <td>M2M</td>\n      <td>North York</td>\n      <td>Willowdale , Newtonbrook</td>\n      <td>43.789053</td>\n      <td>-79.408493</td>\n    </tr>\n    <tr>\n      <th>22</th>\n      <td>M2N</td>\n      <td>North YorkSouth</td>\n      <td>Willowdale</td>\n      <td>43.770120</td>\n      <td>-79.408493</td>\n    </tr>\n    <tr>\n      <th>23</th>\n      <td>M2P</td>\n      <td>North York</td>\n      <td>York Mills West</td>\n      <td>43.752758</td>\n      <td>-79.400049</td>\n    </tr>\n    <tr>\n      <th>24</th>\n      <td>M2R</td>\n      <td>North YorkWest</td>\n      <td>Willowdale</td>\n      <td>43.782736</td>\n      <td>-79.442259</td>\n    </tr>\n    <tr>\n      <th>25</th>\n      <td>M3A</td>\n      <td>North York</td>\n      <td>Parkwoods</td>\n      <td>43.753259</td>\n      <td>-79.329656</td>\n    </tr>\n    <tr>\n      <th>26</th>\n      <td>M3B</td>\n      <td>North YorkNorth</td>\n      <td>Don Mills</td>\n      <td>43.745906</td>\n      <td>-79.352188</td>\n    </tr>\n    <tr>\n      <th>27</th>\n      <td>M3C</td>\n      <td>North YorkSouth</td>\n      <td>Don Mills,Flemingdon Park</td>\n      <td>43.725900</td>\n      <td>-79.340923</td>\n    </tr>\n    <tr>\n      <th>28</th>\n      <td>M3H</td>\n      <td>North York</td>\n      <td>Bathurst Manor , Wilson Heights , Downsview North</td>\n      <td>43.754328</td>\n      <td>-79.442259</td>\n    </tr>\n    <tr>\n      <th>29</th>\n      <td>M3J</td>\n      <td>North York</td>\n      <td>Northwood Park , York University</td>\n      <td>43.767980</td>\n      <td>-79.487262</td>\n    </tr>\n    <tr>\n      <th>...</th>\n      <td>...</td>\n      <td>...</td>\n      <td>...</td>\n      <td>...</td>\n      <td>...</td>\n    </tr>\n    <tr>\n      <th>73</th>\n      <td>M6C</td>\n      <td>York</td>\n      <td>Humewood-Cedarvale</td>\n      <td>43.693781</td>\n      <td>-79.428191</td>\n    </tr>\n    <tr>\n      <th>74</th>\n      <td>M6E</td>\n      <td>York</td>\n      <td>Caledonia-Fairbanks</td>\n      <td>43.689026</td>\n      <td>-79.453512</td>\n    </tr>\n    <tr>\n      <th>75</th>\n      <td>M6G</td>\n      <td>Downtown Toronto</td>\n      <td>Christie</td>\n      <td>43.669542</td>\n      <td>-79.422564</td>\n    </tr>\n    <tr>\n      <th>76</th>\n      <td>M6H</td>\n      <td>West Toronto</td>\n      <td>Dufferin , Dovercourt Village</td>\n      <td>43.669005</td>\n      <td>-79.442259</td>\n    </tr>\n    <tr>\n      <th>77</th>\n      <td>M6J</td>\n      <td>West Toronto</td>\n      <td>Little Portugal , Trinity</td>\n      <td>43.647927</td>\n      <td>-79.419750</td>\n    </tr>\n    <tr>\n      <th>78</th>\n      <td>M6K</td>\n      <td>West Toronto</td>\n      <td>Brockton , Parkdale Village , Exhibition Place</td>\n      <td>43.636847</td>\n      <td>-79.428191</td>\n    </tr>\n    <tr>\n      <th>79</th>\n      <td>M6L</td>\n      <td>North York</td>\n      <td>North Park , Maple Leaf Park , Upwood Park</td>\n      <td>43.713756</td>\n      <td>-79.490074</td>\n    </tr>\n    <tr>\n      <th>80</th>\n      <td>M6M</td>\n      <td>York</td>\n      <td>Del Ray , Mount Dennis , Keelsdale and Silvert...</td>\n      <td>43.691116</td>\n      <td>-79.476013</td>\n    </tr>\n    <tr>\n      <th>81</th>\n      <td>M6N</td>\n      <td>York</td>\n      <td>Runnymede , The Junction North</td>\n      <td>43.673185</td>\n      <td>-79.487262</td>\n    </tr>\n    <tr>\n      <th>82</th>\n      <td>M6P</td>\n      <td>West Toronto</td>\n      <td>High Park , The Junction South</td>\n      <td>43.661608</td>\n      <td>-79.464763</td>\n    </tr>\n    <tr>\n      <th>83</th>\n      <td>M6R</td>\n      <td>West Toronto</td>\n      <td>Parkdale , Roncesvalles</td>\n      <td>43.648960</td>\n      <td>-79.456325</td>\n    </tr>\n    <tr>\n      <th>84</th>\n      <td>M6S</td>\n      <td>West Toronto</td>\n      <td>Runnymede , Swansea</td>\n      <td>43.651571</td>\n      <td>-79.484450</td>\n    </tr>\n    <tr>\n      <th>85</th>\n      <td>M7A</td>\n      <td>Queen's Park / Ontario Provincial Government</td>\n      <td>Queen's Park / Ontario Provincial Government</td>\n      <td>43.662301</td>\n      <td>-79.389494</td>\n    </tr>\n    <tr>\n      <th>86</th>\n      <td>M7R</td>\n      <td>Mississauga</td>\n      <td>Canada Post Gateway Processing Centre('Enclave...</td>\n      <td>43.636966</td>\n      <td>-79.615819</td>\n    </tr>\n    <tr>\n      <th>87</th>\n      <td>M7Y</td>\n      <td>East Toronto</td>\n      <td>Business reply mail Processing Centre969 Easte...</td>\n      <td>43.662744</td>\n      <td>-79.321558</td>\n    </tr>\n    <tr>\n      <th>88</th>\n      <td>M8V</td>\n      <td>Etobicoke</td>\n      <td>New Toronto , Mimico South , Humber Bay Shores</td>\n      <td>43.605647</td>\n      <td>-79.501321</td>\n    </tr>\n    <tr>\n      <th>89</th>\n      <td>M8W</td>\n      <td>Etobicoke</td>\n      <td>Alderwood , Long Branch</td>\n      <td>43.602414</td>\n      <td>-79.543484</td>\n    </tr>\n    <tr>\n      <th>90</th>\n      <td>M8X</td>\n      <td>Etobicoke</td>\n      <td>The Kingsway , Montgomery Road , Old Mill North</td>\n      <td>43.653654</td>\n      <td>-79.506944</td>\n    </tr>\n    <tr>\n      <th>91</th>\n      <td>M8Y</td>\n      <td>Etobicoke</td>\n      <td>Old Mill South , King's Mill Park , Sunnylea ,...</td>\n      <td>43.636258</td>\n      <td>-79.498509</td>\n    </tr>\n    <tr>\n      <th>92</th>\n      <td>M8Z</td>\n      <td>Etobicoke</td>\n      <td>Mimico NW , The Queensway West , South of Bloo...</td>\n      <td>43.628841</td>\n      <td>-79.520999</td>\n    </tr>\n    <tr>\n      <th>93</th>\n      <td>M9A</td>\n      <td>Etobicoke</td>\n      <td>Islington Avenue</td>\n      <td>43.667856</td>\n      <td>-79.532242</td>\n    </tr>\n    <tr>\n      <th>94</th>\n      <td>M9B</td>\n      <td>Etobicoke</td>\n      <td>West Deane Park , Princess Gardens , Martin Gr...</td>\n      <td>43.650943</td>\n      <td>-79.554724</td>\n    </tr>\n    <tr>\n      <th>95</th>\n      <td>M9C</td>\n      <td>Etobicoke</td>\n      <td>Eringate , Bloordale Gardens , Old Burnhamthor...</td>\n      <td>43.643515</td>\n      <td>-79.577201</td>\n    </tr>\n    <tr>\n      <th>96</th>\n      <td>M9L</td>\n      <td>North York</td>\n      <td>Humber Summit</td>\n      <td>43.756303</td>\n      <td>-79.565963</td>\n    </tr>\n    <tr>\n      <th>97</th>\n      <td>M9M</td>\n      <td>North York</td>\n      <td>Humberlea , Emery</td>\n      <td>43.724766</td>\n      <td>-79.532242</td>\n    </tr>\n    <tr>\n      <th>98</th>\n      <td>M9N</td>\n      <td>York</td>\n      <td>Weston</td>\n      <td>43.706876</td>\n      <td>-79.518188</td>\n    </tr>\n    <tr>\n      <th>99</th>\n      <td>M9P</td>\n      <td>Etobicoke</td>\n      <td>Westmount</td>\n      <td>43.696319</td>\n      <td>-79.532242</td>\n    </tr>\n    <tr>\n      <th>100</th>\n      <td>M9R</td>\n      <td>Etobicoke</td>\n      <td>Kingsview Village , St. Phillips , Martin Grov...</td>\n      <td>43.688905</td>\n      <td>-79.554724</td>\n    </tr>\n    <tr>\n      <th>101</th>\n      <td>M9V</td>\n      <td>Etobicoke</td>\n      <td>South Steeles , Silverstone , Humbergate , Jam...</td>\n      <td>43.739416</td>\n      <td>-79.588437</td>\n    </tr>\n    <tr>\n      <th>102</th>\n      <td>M9W</td>\n      <td>EtobicokeNorthwest</td>\n      <td>Clairville , Humberwood , Woodbine Downs , Wes...</td>\n      <td>43.706748</td>\n      <td>-79.594054</td>\n    </tr>\n  </tbody>\n</table>\n<p>103 rows \u00d7 5 columns</p>\n</div>",
                        "text/plain": "    PostalCode                                       Borough  \\\n0          M1B                                   Scarborough   \n1          M1C                                   Scarborough   \n2          M1E                                   Scarborough   \n3          M1G                                   Scarborough   \n4          M1H                                   Scarborough   \n5          M1J                                   Scarborough   \n6          M1K                                   Scarborough   \n7          M1L                                   Scarborough   \n8          M1M                                   Scarborough   \n9          M1N                                   Scarborough   \n10         M1P                                   Scarborough   \n11         M1R                                   Scarborough   \n12         M1S                                   Scarborough   \n13         M1T                                   Scarborough   \n14         M1V                                   Scarborough   \n15         M1W                                   Scarborough   \n16         M1X                                   Scarborough   \n17         M2H                                    North York   \n18         M2J                                    North York   \n19         M2K                                    North York   \n20         M2L                                    North York   \n21         M2M                                    North York   \n22         M2N                               North YorkSouth   \n23         M2P                                    North York   \n24         M2R                                North YorkWest   \n25         M3A                                    North York   \n26         M3B                               North YorkNorth   \n27         M3C                               North YorkSouth   \n28         M3H                                    North York   \n29         M3J                                    North York   \n..         ...                                           ...   \n73         M6C                                          York   \n74         M6E                                          York   \n75         M6G                              Downtown Toronto   \n76         M6H                                  West Toronto   \n77         M6J                                  West Toronto   \n78         M6K                                  West Toronto   \n79         M6L                                    North York   \n80         M6M                                          York   \n81         M6N                                          York   \n82         M6P                                  West Toronto   \n83         M6R                                  West Toronto   \n84         M6S                                  West Toronto   \n85         M7A  Queen's Park / Ontario Provincial Government   \n86         M7R                                   Mississauga   \n87         M7Y                                  East Toronto   \n88         M8V                                     Etobicoke   \n89         M8W                                     Etobicoke   \n90         M8X                                     Etobicoke   \n91         M8Y                                     Etobicoke   \n92         M8Z                                     Etobicoke   \n93         M9A                                     Etobicoke   \n94         M9B                                     Etobicoke   \n95         M9C                                     Etobicoke   \n96         M9L                                    North York   \n97         M9M                                    North York   \n98         M9N                                          York   \n99         M9P                                     Etobicoke   \n100        M9R                                     Etobicoke   \n101        M9V                                     Etobicoke   \n102        M9W                            EtobicokeNorthwest   \n\n                                          Neighborhood   Latitude  Longitude  \n0                                      Malvern , Rouge  43.806686 -79.194353  \n1             Rouge Hill , Port Union , Highland Creek  43.784535 -79.160497  \n2                  Guildwood , Morningside , West Hill  43.763573 -79.188711  \n3                                               Woburn  43.770992 -79.216917  \n4                                            Cedarbrae  43.773136 -79.239476  \n5                                  Scarborough Village  43.744734 -79.239476  \n6        Kennedy Park , Ionview , East Birchmount Park  43.727929 -79.262029  \n7                    Golden Mile , Clairlea , Oakridge  43.711112 -79.284577  \n8    Cliffside , Cliffcrest , Scarborough Village West  43.716316 -79.239476  \n9                         Birch Cliff , Cliffside West  43.692657 -79.264848  \n10   Dorset Park , Wexford Heights , Scarborough To...  43.757410 -79.273304  \n11                                  Wexford , Maryvale  43.750072 -79.295849  \n12                                           Agincourt  43.794200 -79.262029  \n13           Clarks Corners , Tam O'Shanter , Sullivan  43.781638 -79.304302  \n14   Milliken , Agincourt North , Steeles East , L'...  43.815252 -79.284577  \n15                      Steeles West , L'Amoreaux West  43.799525 -79.318389  \n16                                         Upper Rouge  43.836125 -79.205636  \n17                                   Hillcrest Village  43.803762 -79.363452  \n18                      Fairview , Henry Farm , Oriole  43.778517 -79.346556  \n19                                     Bayview Village  43.786947 -79.385975  \n20                           York Mills , Silver Hills  43.757490 -79.374714  \n21                            Willowdale , Newtonbrook  43.789053 -79.408493  \n22                                          Willowdale  43.770120 -79.408493  \n23                                     York Mills West  43.752758 -79.400049  \n24                                          Willowdale  43.782736 -79.442259  \n25                                           Parkwoods  43.753259 -79.329656  \n26                                           Don Mills  43.745906 -79.352188  \n27                           Don Mills,Flemingdon Park  43.725900 -79.340923  \n28   Bathurst Manor , Wilson Heights , Downsview North  43.754328 -79.442259  \n29                    Northwood Park , York University  43.767980 -79.487262  \n..                                                 ...        ...        ...  \n73                                  Humewood-Cedarvale  43.693781 -79.428191  \n74                                 Caledonia-Fairbanks  43.689026 -79.453512  \n75                                            Christie  43.669542 -79.422564  \n76                       Dufferin , Dovercourt Village  43.669005 -79.442259  \n77                           Little Portugal , Trinity  43.647927 -79.419750  \n78      Brockton , Parkdale Village , Exhibition Place  43.636847 -79.428191  \n79          North Park , Maple Leaf Park , Upwood Park  43.713756 -79.490074  \n80   Del Ray , Mount Dennis , Keelsdale and Silvert...  43.691116 -79.476013  \n81                      Runnymede , The Junction North  43.673185 -79.487262  \n82                      High Park , The Junction South  43.661608 -79.464763  \n83                             Parkdale , Roncesvalles  43.648960 -79.456325  \n84                                 Runnymede , Swansea  43.651571 -79.484450  \n85        Queen's Park / Ontario Provincial Government  43.662301 -79.389494  \n86   Canada Post Gateway Processing Centre('Enclave...  43.636966 -79.615819  \n87   Business reply mail Processing Centre969 Easte...  43.662744 -79.321558  \n88      New Toronto , Mimico South , Humber Bay Shores  43.605647 -79.501321  \n89                             Alderwood , Long Branch  43.602414 -79.543484  \n90     The Kingsway , Montgomery Road , Old Mill North  43.653654 -79.506944  \n91   Old Mill South , King's Mill Park , Sunnylea ,...  43.636258 -79.498509  \n92   Mimico NW , The Queensway West , South of Bloo...  43.628841 -79.520999  \n93                                    Islington Avenue  43.667856 -79.532242  \n94   West Deane Park , Princess Gardens , Martin Gr...  43.650943 -79.554724  \n95   Eringate , Bloordale Gardens , Old Burnhamthor...  43.643515 -79.577201  \n96                                       Humber Summit  43.756303 -79.565963  \n97                                   Humberlea , Emery  43.724766 -79.532242  \n98                                              Weston  43.706876 -79.518188  \n99                                           Westmount  43.696319 -79.532242  \n100  Kingsview Village , St. Phillips , Martin Grov...  43.688905 -79.554724  \n101  South Steeles , Silverstone , Humbergate , Jam...  43.739416 -79.588437  \n102  Clairville , Humberwood , Woodbine Downs , Wes...  43.706748 -79.594054  \n\n[103 rows x 5 columns]"
                    },
                    "execution_count": 126,
                    "metadata": {},
                    "output_type": "execute_result"
                }
            ],
            "source": "df_toronto"
        }
    ],
    "metadata": {
        "kernelspec": {
            "display_name": "Python 3.6",
            "language": "python",
            "name": "python3"
        },
        "language_info": {
            "codemirror_mode": {
                "name": "ipython",
                "version": 3
            },
            "file_extension": ".py",
            "mimetype": "text/x-python",
            "name": "python",
            "nbconvert_exporter": "python",
            "pygments_lexer": "ipython3",
            "version": "3.6.9"
        }
    },
    "nbformat": 4,
    "nbformat_minor": 1
}